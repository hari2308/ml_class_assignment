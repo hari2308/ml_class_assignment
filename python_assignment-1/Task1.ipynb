{
 "cells": [
  {
   "cell_type": "markdown",
   "metadata": {},
   "source": [
    "<h1>Task1</h1>"
   ]
  },
  {
   "cell_type": "markdown",
   "metadata": {},
   "source": [
    "<h3>Write a program which will find all such numbers which are divisible by 7 but are not a multiple\n",
    "of 5, between 2000 and 3200 (both included). The numbers obtained should be printed in a\n",
    "comma-separated sequence on a single line.</h3>"
   ]
  },
  {
   "cell_type": "code",
   "execution_count": 1,
   "metadata": {},
   "outputs": [],
   "source": [
    "def number_val(min_value, max_value):#both values are included\n",
    "    \n",
    "    list1 = [i for i in range(min_value, max_value+1) if i%7 == 0 and i%5 != 0]\n",
    "    return \", \".join(map(str,list1))    \n",
    "    "
   ]
  },
  {
   "cell_type": "code",
   "execution_count": 2,
   "metadata": {},
   "outputs": [
    {
     "name": "stdout",
     "output_type": "stream",
     "text": [
      "7, 14, 21, 28, 42, 49\n"
     ]
    }
   ],
   "source": [
    "print(number_val(1, 50))"
   ]
  },
  {
   "cell_type": "markdown",
   "metadata": {},
   "source": [
    "<h3>Write a Python program to accept the user's first and last name and then getting them printed in\n",
    "the the reverse order with a space between first name and last name.</h3>"
   ]
  },
  {
   "cell_type": "code",
   "execution_count": 3,
   "metadata": {},
   "outputs": [],
   "source": [
    "def reversing_name(f_name, l_name): #function for resvering names\n",
    "    f_name = f_name\n",
    "    l_name = l_name\n",
    "    \n",
    "    return l_name + \" \" + f_name"
   ]
  },
  {
   "cell_type": "code",
   "execution_count": 4,
   "metadata": {},
   "outputs": [
    {
     "name": "stdout",
     "output_type": "stream",
     "text": [
      "Enter first name : hari\n",
      "Enter last name : krishna\n",
      "Output of reverse order: \"krishna hari\"\n"
     ]
    }
   ],
   "source": [
    "f_name = input(\"Enter first name : \")\n",
    "s_name = input(\"Enter last name : \")\n",
    "print(f'Output of reverse order: \"{reversing_name(f_name, s_name)}\"')"
   ]
  },
  {
   "cell_type": "markdown",
   "metadata": {},
   "source": [
    "<h3>Write a Python program to find the volume of a sphere with diameter 12 cm.\n",
    "Formula: V=4/3 * π * r * r * r</h3>"
   ]
  },
  {
   "cell_type": "code",
   "execution_count": 5,
   "metadata": {},
   "outputs": [],
   "source": [
    "from math import pi, pow\n",
    "\n",
    "def volume(diameter): #function for returning volume\n",
    "    r = diameter/2\n",
    "    vol = 4/3*pi*pow(r,3)\n",
    "    return vol"
   ]
  },
  {
   "cell_type": "code",
   "execution_count": 6,
   "metadata": {},
   "outputs": [
    {
     "name": "stdout",
     "output_type": "stream",
     "text": [
      "904.7786842338603\n"
     ]
    }
   ],
   "source": [
    "print(volume(12))"
   ]
  },
  {
   "cell_type": "code",
   "execution_count": null,
   "metadata": {},
   "outputs": [],
   "source": []
  }
 ],
 "metadata": {
  "kernelspec": {
   "display_name": "Python 3",
   "language": "python",
   "name": "python3"
  },
  "language_info": {
   "codemirror_mode": {
    "name": "ipython",
    "version": 3
   },
   "file_extension": ".py",
   "mimetype": "text/x-python",
   "name": "python",
   "nbconvert_exporter": "python",
   "pygments_lexer": "ipython3",
   "version": "3.7.4"
  }
 },
 "nbformat": 4,
 "nbformat_minor": 2
}
